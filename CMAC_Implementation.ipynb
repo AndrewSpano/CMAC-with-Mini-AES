{
 "cells": [
  {
   "cell_type": "markdown",
   "metadata": {},
   "source": [
    "<h1> Information Security, Assignment 5 - Bonus Question </h1>\n",
    "<h1> Pytharoulios Konstantinos (Pythak@usi.ch) </h1> \n",
    "<h1> Spanopoulos Andreas - Theologos (spanoa@usi.ch) <h1>"
   ]
  },
  {
   "cell_type": "markdown",
   "metadata": {},
   "source": [
    "Start by including the main S-AES library and also defining important sizes for the CMAC."
   ]
  },
  {
   "cell_type": "code",
   "execution_count": 1,
   "metadata": {},
   "outputs": [],
   "source": [
    "# import the built Mini-AES library\n",
    "from sage.crypto.block_cipher.miniaes import MiniAES\n",
    "crypto = MiniAES()\n",
    "bin = BinaryStrings()\n",
    "\n",
    "# the sizes indicate number of bits. Both should be a multiple of 8.\n",
    "# Everything in the code is generic (depending on these size variables), but the MiniAES() works with 16 bits\n",
    "# so these sizes should not be changed\n",
    "block_size = 16\n",
    "key_size = 16"
   ]
  },
  {
   "cell_type": "markdown",
   "metadata": {},
   "source": [
    "Define the plaintext that we want to encode and the key to be used for it."
   ]
  },
  {
   "cell_type": "code",
   "execution_count": 2,
   "metadata": {},
   "outputs": [],
   "source": [
    "# change here the plaintext that you want to encrypt\n",
    "plaintext = 'I should have started using Github way long ago'\n",
    "# change here the key that you want to use for encryption\n",
    "# the key values can range from 0 up to 2^{block_size} - 1 = 2^{16} - 1 = 65535\n",
    "K = 420"
   ]
  },
  {
   "cell_type": "markdown",
   "metadata": {},
   "source": [
    "Now we have to split the plaintext in blocks of length (block_size)-bits. Note that each ASCII symbol is 8 bits long."
   ]
  },
  {
   "cell_type": "code",
   "execution_count": 3,
   "metadata": {
    "scrolled": false
   },
   "outputs": [],
   "source": [
    "# how many bits the plaintext has\n",
    "plaintext_bits = len(plaintext) * 8\n",
    "# number of messages\n",
    "n = plaintext_bits // block_size\n",
    "\n",
    "# check if the last message will need padding\n",
    "needs_padding = False\n",
    "bits_remaining = plaintext_bits % block_size\n",
    "if bits_remaining != 0:\n",
    "    needs_padding = True\n",
    "    n = n + 1\n",
    "    \n",
    "# how many bytes each block will contain\n",
    "bytes_per_block = block_size // 8\n",
    "\n",
    "# create a list which will have blocks of plaintext messages\n",
    "list_of_block_messages = []\n",
    "for i in range(n - 1):\n",
    "    temp_list = []\n",
    "    for byte in range(0, bytes_per_block):\n",
    "        temp_list.append(plaintext[bytes_per_block * i + byte])\n",
    "    \n",
    "    list_of_block_messages.append(''.join(temp_list))\n",
    "    \n",
    "    \n",
    "# calculate how many bytes the last message has. If the message fits exactly, then it has bytes_per_block bytes\n",
    "bytes_left = bytes_per_block if (bits_remaining == 0) else (bits_remaining // 8)\n",
    "# the last message has to be handled explicitly because it may need padding\n",
    "temp_list = []\n",
    "for byte in range(bytes_left):\n",
    "    temp_list.append(plaintext[bytes_per_block * (n - 1) + byte])\n",
    "    \n",
    "# if needed, pad 1 followed by 0's until the block size is reached\n",
    "if needs_padding:\n",
    "    # how many bytes need to be padded\n",
    "    bytes_to_be_padded = bytes_per_block - bytes_left\n",
    "    # pad the first byte: 10000000\n",
    "    first_padded_byte = chr(int('0b10000000', 2))\n",
    "    temp_list.append(first_padded_byte)\n",
    "    bytes_to_be_padded = bytes_to_be_padded - 1\n",
    "    \n",
    "    # if there are more bytes to be padded, do it\n",
    "    while bytes_to_be_padded > 0:\n",
    "        # pad the next byte: 00000000\n",
    "        temp_list.append(chr(int('0b00000000', 2)))\n",
    "        bytes_to_be_padded = bytes_to_be_padded - 1\n",
    "    \n",
    "# add the last message block to the list\n",
    "list_of_block_messages.append(''.join(temp_list))"
   ]
  },
  {
   "cell_type": "markdown",
   "metadata": {},
   "source": [
    "Function that converts binary strings to their respective ASCII symbols string."
   ]
  },
  {
   "cell_type": "code",
   "execution_count": 4,
   "metadata": {},
   "outputs": [],
   "source": [
    "# converts a binary string to it's respective Ascii form. For example: \"01000001\" -> \"A\"\n",
    "# or \"010000010100001001000011\" -> \"ABC\"\n",
    "def Binary_to_Ascii_string(string):\n",
    "    ascii_list = []\n",
    "    bytes_in_string = len(string) // 8\n",
    "    for i in range(bytes_in_string):\n",
    "        byte = int(string[i * 8 : i * 8 + 8], 2)\n",
    "        ascii_list.append(chr(byte))\n",
    "    \n",
    "    return ''.join(ascii_list)"
   ]
  },
  {
   "cell_type": "markdown",
   "metadata": {},
   "source": [
    "Now we have to calculate the keys $K_1$ and $K_2$."
   ]
  },
  {
   "cell_type": "code",
   "execution_count": 5,
   "metadata": {},
   "outputs": [],
   "source": [
    "# how many bytes the key has\n",
    "bytes_in_key = key_size // 8\n",
    "\n",
    "# convert the key to a 16-bit binary string\n",
    "key_as_binary_string = '{0:016b}'.format(K)\n",
    "key_in_ascii = Binary_to_Ascii_string(key_as_binary_string)\n",
    "key = bin.encoding(key_in_ascii)\n",
    "    \n",
    "# create a (key_size)-bit string of zeros\n",
    "zeros = []\n",
    "for i in range(bytes_in_key):\n",
    "    zeros.append(\"\\0\")\n",
    "\n",
    "# the string is ready, but we have to use the encoding function\n",
    "string_of_zeros = bin.encoding(''.join(zeros))\n",
    "\n",
    "# compute L\n",
    "L_encoding = crypto(string_of_zeros, key, algorithm = \"encrypt\");\n",
    "L = str(L_encoding)\n",
    "\n",
    "# create the Galois Field\n",
    "F.<x> = GF(2^block_size)\n",
    "\n",
    "# compute F(L) so that we stay inside the field\n",
    "\n",
    "# first we need to represent L in a reversed bit-list\n",
    "L_as_list = []\n",
    "for i in range(len(L)):\n",
    "    L_as_list.append(L[i])\n",
    "    \n",
    "# reverse the list\n",
    "L_as_list.reverse()\n",
    "\n",
    "# now we can reduce it\n",
    "reduced_L = F(L_as_list)\n",
    "\n",
    "\n",
    "# compute K_1\n",
    "K_1 = reduced_L * x\n",
    "K_1_as_list = K_1.polynomial().coefficients(sparse = False)\n",
    "\n",
    "# fill with 0's if needed\n",
    "zeros_needed = key_size - len(K_1_as_list)\n",
    "for i in range(zeros_needed):\n",
    "    K_1_as_list.append(0)\n",
    "    \n",
    "# reverse it because the coefficients are in the opposite order\n",
    "K_1_as_list.reverse()\n",
    "\n",
    "\n",
    "# compute K_2\n",
    "K_2 = K_1 * x\n",
    "K_2_as_list = K_2.polynomial().coefficients(sparse = False)\n",
    "\n",
    "# fill with 0's if needed\n",
    "zeros_needed = key_size - len(K_2_as_list)\n",
    "for i in range(zeros_needed):\n",
    "    K_2_as_list.append(0)\n",
    "    \n",
    "# reverse it because the coefficients are in the opposite order\n",
    "K_2_as_list.reverse()"
   ]
  },
  {
   "cell_type": "markdown",
   "metadata": {},
   "source": [
    "Useful conversion functions."
   ]
  },
  {
   "cell_type": "code",
   "execution_count": 6,
   "metadata": {},
   "outputs": [],
   "source": [
    "# converts list of binary chars to ints. For example: ['0', '1', '0'] -> [0, 1, 0]\n",
    "def Char_to_Int_List(string):\n",
    "    bin_list = []\n",
    "    for ch in string:\n",
    "        if ch == '0':\n",
    "            bin_list.append(0)\n",
    "        else:\n",
    "            bin_list.append(1)\n",
    "        \n",
    "        \n",
    "    return bin_list\n",
    "\n",
    "# does the opposite of the above function\n",
    "def Int_to_Char_List(string):\n",
    "    char_list = []\n",
    "    for num in string:\n",
    "        if num == 0:\n",
    "            char_list.append('0')\n",
    "        else:\n",
    "            char_list.append('1')\n",
    "            \n",
    "    return char_list"
   ]
  },
  {
   "cell_type": "markdown",
   "metadata": {},
   "source": [
    "Function used to calculate the exclusive-or (xor) of two strings, stolen from the labs :)."
   ]
  },
  {
   "cell_type": "code",
   "execution_count": 7,
   "metadata": {},
   "outputs": [],
   "source": [
    "def XorBlock(block1, block2):\n",
    "    l = len(block1);\n",
    "    if (l != len(block2)):\n",
    "        raise (ValueError, \"XorBlock arguments must be same length\")\n",
    "    return [(block1[j] + block2[j]) % 2 for j in range(l)];"
   ]
  },
  {
   "cell_type": "markdown",
   "metadata": {},
   "source": [
    "Now we have to calculate the ciphertexts."
   ]
  },
  {
   "cell_type": "code",
   "execution_count": 8,
   "metadata": {},
   "outputs": [],
   "source": [
    "# encode the first plaintext in the format needed\n",
    "plaintext_encoding = bin.encoding(list_of_block_messages[0])\n",
    "# compute c_1\n",
    "c1 = crypto(plaintext_encoding, key, algorithm = 'encrypt')\n",
    "\n",
    "# make a list of ciphertexts in order to print them in the end\n",
    "ciphertexts = [c1]\n",
    "# store the previous ciphertext in order to \"xor\" it with the next plaintext\n",
    "previous_ciphertext = c1\n",
    "\n",
    "# for the block ciphertexts 2 : n\n",
    "for i in range(2, n + 1):\n",
    "    \n",
    "    # calculate the encoding of the next message\n",
    "    plaintext_encoding = bin.encoding(list_of_block_messages[i - 1])\n",
    "    \n",
    "    # translate it as a list of of 0's and 1's in order to be able to do the xor operation\n",
    "    plaintext_encoding_as_list = Char_to_Int_List(list(str(plaintext_encoding)))\n",
    "\n",
    "    # same for the previous ciphertext\n",
    "    previous_ciphertext_as_list = Char_to_Int_List(list(str(previous_ciphertext)))\n",
    "    \n",
    "    # xor the plaintext with the previous ciphertext\n",
    "    xored_string_as_list = XorBlock(plaintext_encoding_as_list, previous_ciphertext_as_list)\n",
    "    \n",
    "    # if we are computing the last ciphertext C_n, then we have to also xor with one of the keys k1 or k2,\n",
    "    # depending on if we padded or not\n",
    "    if i == n:\n",
    "        if needs_padding:\n",
    "            xored_string_as_list = XorBlock(xored_string_as_list, K_2_as_list)\n",
    "        else:\n",
    "            xored_string_as_list = XorBlock(xored_string_as_list, K_1_as_list)\n",
    "            \n",
    "    # get the xored plaintext as a string of 0' and 1's\n",
    "    xored_string = ''.join(Int_to_Char_List(xored_string_as_list))\n",
    "    # convert the string to Ascii format in order to use bin.encoding()\n",
    "    xored_string_as_ascii = Binary_to_Ascii_string(xored_string)\n",
    "    \n",
    "    # finally encode the xored string in the format needed\n",
    "    xored_string_encoded = bin.encoding(xored_string_as_ascii)\n",
    "   \n",
    "    # encrypt the thing\n",
    "    c_i = crypto(xored_string_encoded, key, algorithm = 'encrypt')\n",
    "    # store the new ciphertext\n",
    "    previous_ciphertext = c_i\n",
    "    # add it to the list\n",
    "    ciphertexts.append(c_i)\n",
    "    \n",
    "    \n",
    "# compute T\n",
    "C_n = ciphertexts[n - 1]\n",
    "C_n_as_list = Char_to_Int_List(list(str(C_n)))\n",
    "\n",
    "# get the leftmost bits\n",
    "T_as_list = C_n_as_list\n",
    "# if we had padding\n",
    "if needs_padding != 0:\n",
    "    # take those that we need\n",
    "    T_as_list = C_n_as_list[0 : bits_remaining]\n",
    "    \n",
    "# get T as a string of bits\n",
    "T = ''.join(Int_to_Char_List(T_as_list))"
   ]
  },
  {
   "cell_type": "markdown",
   "metadata": {},
   "source": [
    "Now we can print everything to see the results:"
   ]
  },
  {
   "cell_type": "code",
   "execution_count": 9,
   "metadata": {},
   "outputs": [
    {
     "name": "stdout",
     "output_type": "stream",
     "text": [
      "There are totally 24 plaintext block messages to be encrypted:\n",
      "\n",
      "C_{ 1 } =  0000100110100101\n",
      "C_{ 2 } =  0011001101110001\n",
      "C_{ 3 } =  0100000001010110\n",
      "C_{ 4 } =  1001110100111001\n",
      "C_{ 5 } =  1110111110100111\n",
      "C_{ 6 } =  1000100001110000\n",
      "C_{ 7 } =  1100111110101110\n",
      "C_{ 8 } =  0110010001100100\n",
      "C_{ 9 } =  1000101010100100\n",
      "C_{ 10 } =  1100011110000110\n",
      "C_{ 11 } =  1010010011111101\n",
      "C_{ 12 } =  1100101101010100\n",
      "C_{ 13 } =  1110000011000110\n",
      "C_{ 14 } =  0011100010100101\n",
      "C_{ 15 } =  0100110000001110\n",
      "C_{ 16 } =  1110001011111110\n",
      "C_{ 17 } =  0111011110110101\n",
      "C_{ 18 } =  0110010001011111\n",
      "C_{ 19 } =  1000011001000100\n",
      "C_{ 20 } =  0101101010111111\n",
      "C_{ 21 } =  1101110011000011\n",
      "C_{ 22 } =  1100111001100011\n",
      "C_{ 23 } =  1111011101101011\n",
      "C_{ 24 } =  0000111100010101\n",
      "T =  00001111\n"
     ]
    }
   ],
   "source": [
    "print('There are totally', n, 'plaintext block messages to be encrypted:\\n')\n",
    "for i in range(n):\n",
    "    print('C_{', i + 1, '} = ', ciphertexts[i])\n",
    "print('T = ', T)"
   ]
  }
 ],
 "metadata": {
  "kernelspec": {
   "display_name": "SageMath 9.0",
   "language": "sage",
   "name": "sagemath"
  },
  "language_info": {
   "codemirror_mode": {
    "name": "ipython",
    "version": 3
   },
   "file_extension": ".py",
   "mimetype": "text/x-python",
   "name": "python",
   "nbconvert_exporter": "python",
   "pygments_lexer": "ipython3",
   "version": "3.7.6"
  }
 },
 "nbformat": 4,
 "nbformat_minor": 2
}
